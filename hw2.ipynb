{
 "cells": [
  {
   "cell_type": "markdown",
   "metadata": {},
   "source": [
    "# STA 141B Assignment 2\n",
    "\n",
    "Due __Jan 29, 2019__ by 11:59pm. Submit by editing this file, committing the changes with git, and then pushing to your private GitHub repo for the assignment. This assignment will be graded for correctness.\n",
    "\n",
    "Please do not rename this file or delete the exercise cells, because it will interfere with our grading tools. Put your answers in new cells after each exercise. You can make as many new cells as you like. Use code cells for code and Markdown cells for text. Answer all questions with complete sentences.\n",
    "\n",
    "The purpose of this assignment is to practice using data frames to index, slice, reshape, aggregate, and group data."
   ]
  },
  {
   "cell_type": "markdown",
   "metadata": {
    "tags": [
     "exercise"
    ]
   },
   "source": [
    "## Indexing\n",
    "\n",
    "__Exercise 1.1 (10 points).__ Give three examples of indexing a data frame with `[ ]`, `.loc[ ]`, and `.iloc[ ]`, respectively. Explain how each of these indexing methods is different."
   ]
  },
  {
   "cell_type": "code",
   "execution_count": 3,
   "metadata": {},
   "outputs": [
    {
     "data": {
      "text/html": [
       "<div>\n",
       "<style scoped>\n",
       "    .dataframe tbody tr th:only-of-type {\n",
       "        vertical-align: middle;\n",
       "    }\n",
       "\n",
       "    .dataframe tbody tr th {\n",
       "        vertical-align: top;\n",
       "    }\n",
       "\n",
       "    .dataframe thead th {\n",
       "        text-align: right;\n",
       "    }\n",
       "</style>\n",
       "<table border=\"1\" class=\"dataframe\">\n",
       "  <thead>\n",
       "    <tr style=\"text-align: right;\">\n",
       "      <th></th>\n",
       "      <th>x</th>\n",
       "      <th>y</th>\n",
       "    </tr>\n",
       "  </thead>\n",
       "  <tbody>\n",
       "    <tr>\n",
       "      <th>0</th>\n",
       "      <td>1</td>\n",
       "      <td>a</td>\n",
       "    </tr>\n",
       "    <tr>\n",
       "      <th>1</th>\n",
       "      <td>2</td>\n",
       "      <td>b</td>\n",
       "    </tr>\n",
       "    <tr>\n",
       "      <th>2</th>\n",
       "      <td>3</td>\n",
       "      <td>c</td>\n",
       "    </tr>\n",
       "  </tbody>\n",
       "</table>\n",
       "</div>"
      ],
      "text/plain": [
       "   x  y\n",
       "0  1  a\n",
       "1  2  b\n",
       "2  3  c"
      ]
     },
     "execution_count": 3,
     "metadata": {},
     "output_type": "execute_result"
    }
   ],
   "source": [
    "import pandas as pd\n",
    "\n",
    "df = pd.DataFrame({\"x\": [1, 2, 3], \"y\": [\"a\", \"b\", \"c\"]})\n",
    "df"
   ]
  },
  {
   "cell_type": "code",
   "execution_count": 8,
   "metadata": {},
   "outputs": [
    {
     "data": {
      "text/plain": [
       "0    1\n",
       "1    2\n",
       "2    3\n",
       "Name: x, dtype: int64"
      ]
     },
     "execution_count": 8,
     "metadata": {},
     "output_type": "execute_result"
    }
   ],
   "source": [
    "df['x'] # returns column named 'x'"
   ]
  },
  {
   "cell_type": "code",
   "execution_count": 17,
   "metadata": {},
   "outputs": [
    {
     "data": {
      "text/plain": [
       "x    1\n",
       "y    a\n",
       "Name: 0, dtype: object"
      ]
     },
     "execution_count": 17,
     "metadata": {},
     "output_type": "execute_result"
    }
   ],
   "source": [
    "df.loc[0] # returns row with index 0"
   ]
  },
  {
   "cell_type": "code",
   "execution_count": 21,
   "metadata": {},
   "outputs": [
    {
     "data": {
      "text/plain": [
       "'c'"
      ]
     },
     "execution_count": 21,
     "metadata": {},
     "output_type": "execute_result"
    }
   ],
   "source": [
    "df.iloc[2,1] # returns element in position (2,1)"
   ]
  },
  {
   "cell_type": "markdown",
   "metadata": {},
   "source": [
    "* `[ ]` is by position, name, or condition (for integer indecies, only by name or condition)\n",
    "* `.loc[ ]` is by position\n",
    "* `.iloc[ ]` is by name or condition"
   ]
  },
  {
   "cell_type": "markdown",
   "metadata": {
    "tags": [
     "exercise"
    ]
   },
   "source": [
    "__Exercise 1.2 (10 points).__ What do negative indexes (as in `x[-1]`) do in Python? Create and try three examples of negative indexes for lists, NumPy arrays, and data frames, respectively. Then explain what you think negative indexes do. Confirm your explanation by linking to a relevant page in the Python, NumPy, or Pandas documentation."
   ]
  },
  {
   "cell_type": "code",
   "execution_count": 168,
   "metadata": {},
   "outputs": [
    {
     "data": {
      "text/plain": [
       "5"
      ]
     },
     "execution_count": 168,
     "metadata": {},
     "output_type": "execute_result"
    }
   ],
   "source": [
    "x = [1, 2, 3, 4, 5]\n",
    "x[-1]"
   ]
  },
  {
   "cell_type": "code",
   "execution_count": 174,
   "metadata": {},
   "outputs": [
    {
     "data": {
      "text/plain": [
       "'e'"
      ]
     },
     "execution_count": 174,
     "metadata": {},
     "output_type": "execute_result"
    }
   ],
   "source": [
    "import numpy as np\n",
    "y = np.array(['a', 'b', 'c', 'd', 'e'])\n",
    "y[-1]"
   ]
  },
  {
   "cell_type": "code",
   "execution_count": 172,
   "metadata": {},
   "outputs": [
    {
     "data": {
      "text/plain": [
       "x    5\n",
       "y    e\n",
       "Name: 4, dtype: object"
      ]
     },
     "execution_count": 172,
     "metadata": {},
     "output_type": "execute_result"
    }
   ],
   "source": [
    "z = pd.DataFrame({\"x\": x, \"y\": y})\n",
    "z.iloc[-1]"
   ]
  },
  {
   "cell_type": "markdown",
   "metadata": {},
   "source": [
    "A negative index (like `x[-i]`) accesses the `i-1`-th from the last element in the container. In other words, if `len(x)=n` for some container `x`, then `x[-i]` would return `x[n-i]`.\n",
    "\n",
    "See https://docs.scipy.org/doc/numpy-1.13.0/reference/arrays.indexing.html for documentation on NumPy array indexing."
   ]
  },
  {
   "cell_type": "markdown",
   "metadata": {
    "tags": [
     "exercise"
    ]
   },
   "source": [
    "__Exercise 1.3 (10 points).__ Give an example and explain Pandas' data alignment (or index alignment) feature."
   ]
  },
  {
   "cell_type": "code",
   "execution_count": 121,
   "metadata": {},
   "outputs": [
    {
     "data": {
      "text/plain": [
       "0    a\n",
       "1    b\n",
       "2    c\n",
       "dtype: object"
      ]
     },
     "execution_count": 121,
     "metadata": {},
     "output_type": "execute_result"
    }
   ],
   "source": [
    "x = pd.Series([\"a\", \"b\", \"c\"], index = [0, 1, 2])\n",
    "y = pd.Series([\"b\", \"a\", \"d\", \"c\"], index = [0, 1, 2, 3])\n",
    "\n",
    "x"
   ]
  },
  {
   "cell_type": "code",
   "execution_count": 122,
   "metadata": {},
   "outputs": [
    {
     "data": {
      "text/plain": [
       "0    b\n",
       "1    a\n",
       "2    d\n",
       "3    c\n",
       "dtype: object"
      ]
     },
     "execution_count": 122,
     "metadata": {},
     "output_type": "execute_result"
    }
   ],
   "source": [
    "y"
   ]
  },
  {
   "cell_type": "code",
   "execution_count": 123,
   "metadata": {},
   "outputs": [
    {
     "data": {
      "text/plain": [
       "0     ab\n",
       "1     ba\n",
       "2     cd\n",
       "3    NaN\n",
       "dtype: object"
      ]
     },
     "execution_count": 123,
     "metadata": {},
     "output_type": "execute_result"
    }
   ],
   "source": [
    "x + y"
   ]
  },
  {
   "cell_type": "markdown",
   "metadata": {
    "tags": [
     "exercise"
    ]
   },
   "source": [
    "__Exercise 1.4 (10 points).__ Explain the difference between the similarly-named data frame methods `.reindex()` and `.reset_index()`. Give two examples to show what each method respectively does.\n",
    "\n",
    "How might these methods be useful when combined with Pandas' data alignment feature?\n",
    "\n",
    "*Hint: Besides the Pandas documentation, `.reindex()` is explained in Python for Data Analysis 5.2, and `.reset_index()` is explained [here](https://jakevdp.github.io/PythonDataScienceHandbook/03.05-hierarchical-indexing.html#Index-setting-and-resetting).*"
   ]
  },
  {
   "cell_type": "markdown",
   "metadata": {},
   "source": [
    "`.reindex()` assigns new indices specified in the arguments, whereas `.reset_index()` removes any assigned indices."
   ]
  },
  {
   "cell_type": "markdown",
   "metadata": {
    "tags": [
     "exercise"
    ]
   },
   "source": [
    "## Aquaculture Data Set 🐟🦐\n",
    "\n",
    "The U.S. Department of Agriculture publishes data sets about U.S. food production online. In the next few exercises, you'll use the [U.S. Aquaculture data set](https://www.ers.usda.gov/webdocs/DataFiles/47759/AquacultureTradeFull.xls?v=661.2). The data set contains information about fish and shellfish imports and exports (more info [here](https://www.ers.usda.gov/data-products/aquaculture-data/)). The data set is published as a single Excel file.\n",
    "\n",
    "__Exercise 1.5 (20 points).__ Download the aquaculture data set, open it in your favorite spreadsheet program, and take a moment to familiarize yourself with the data.\n",
    "\n",
    "Use Pandas to _read_ the sheet that contains total imports from the Excel file. Clean the data frame so that it's _tidy_ (more info [here](http://shzhangji.com/blog/2017/09/30/pandas-and-tidy-data/) and [here](https://www.jstatsoft.org/article/view/v059i10)). In particular, make sure that:\n",
    "\n",
    "* years are in a single column\n",
    "* measurements are in a single column\n",
    "* all observations indicate whether they are value or volume\n",
    "* fish type and preparation are in separate columns\n",
    "* footnotes are removed\n",
    "\n",
    "For example, after tidying the data, I ended up with a multiindex series that looked like:\n",
    "\n",
    "```\n",
    "measurement     product  format             year\n",
    "volume_1000lbs  Trout     fresh and frozen  1989    1467.892443\n",
    "                                            1990    5898.067124\n",
    "                                            1991    3866.117733\n",
    "                                            1992    6200.029791\n",
    "                                            1993    4744.615508\n",
    "                                            ...\n",
    "dtype: float64\n",
    "```\n",
    "\n",
    "Your result does not have to be identical, but should have a similar shape. Your result can be a data frame with multiple columns, or a multiindex series.\n",
    "\n",
    "Convert your code into a function `read_aqua_mx()` with appropriate documentation and parameters. Test that your function can also correctly read the total exports sheet."
   ]
  },
  {
   "cell_type": "code",
   "execution_count": 9,
   "metadata": {},
   "outputs": [],
   "source": [
    "import pandas as pd\n",
    "import numpy as np"
   ]
  },
  {
   "cell_type": "code",
   "execution_count": 157,
   "metadata": {},
   "outputs": [
    {
     "data": {
      "text/html": [
       "<div>\n",
       "<style scoped>\n",
       "    .dataframe tbody tr th:only-of-type {\n",
       "        vertical-align: middle;\n",
       "    }\n",
       "\n",
       "    .dataframe tbody tr th {\n",
       "        vertical-align: top;\n",
       "    }\n",
       "\n",
       "    .dataframe thead th {\n",
       "        text-align: right;\n",
       "    }\n",
       "</style>\n",
       "<table border=\"1\" class=\"dataframe\">\n",
       "  <thead>\n",
       "    <tr style=\"text-align: right;\">\n",
       "      <th></th>\n",
       "      <th>Measurement</th>\n",
       "      <th>Product</th>\n",
       "      <th>Format</th>\n",
       "      <th>Year</th>\n",
       "      <th>Amount</th>\n",
       "    </tr>\n",
       "  </thead>\n",
       "  <tbody>\n",
       "    <tr>\n",
       "      <th>0</th>\n",
       "      <td>Volume_1000lbs</td>\n",
       "      <td>Trout</td>\n",
       "      <td>fresh and frozen</td>\n",
       "      <td>1989</td>\n",
       "      <td>1467.892443</td>\n",
       "    </tr>\n",
       "    <tr>\n",
       "      <th>1</th>\n",
       "      <td>Volume_1000lbs</td>\n",
       "      <td>Trout</td>\n",
       "      <td>fresh and frozen</td>\n",
       "      <td>1990</td>\n",
       "      <td>5898.067124</td>\n",
       "    </tr>\n",
       "    <tr>\n",
       "      <th>2</th>\n",
       "      <td>Volume_1000lbs</td>\n",
       "      <td>Trout</td>\n",
       "      <td>fresh and frozen</td>\n",
       "      <td>1991</td>\n",
       "      <td>3866.117733</td>\n",
       "    </tr>\n",
       "    <tr>\n",
       "      <th>3</th>\n",
       "      <td>Volume_1000lbs</td>\n",
       "      <td>Trout</td>\n",
       "      <td>fresh and frozen</td>\n",
       "      <td>1992</td>\n",
       "      <td>6200.029791</td>\n",
       "    </tr>\n",
       "    <tr>\n",
       "      <th>4</th>\n",
       "      <td>Volume_1000lbs</td>\n",
       "      <td>Trout</td>\n",
       "      <td>fresh and frozen</td>\n",
       "      <td>1993</td>\n",
       "      <td>4744.615508</td>\n",
       "    </tr>\n",
       "  </tbody>\n",
       "</table>\n",
       "</div>"
      ],
      "text/plain": [
       "      Measurement Product            Format  Year       Amount\n",
       "0  Volume_1000lbs   Trout  fresh and frozen  1989  1467.892443\n",
       "1  Volume_1000lbs   Trout  fresh and frozen  1990  5898.067124\n",
       "2  Volume_1000lbs   Trout  fresh and frozen  1991  3866.117733\n",
       "3  Volume_1000lbs   Trout  fresh and frozen  1992  6200.029791\n",
       "4  Volume_1000lbs   Trout  fresh and frozen  1993  4744.615508"
      ]
     },
     "execution_count": 157,
     "metadata": {},
     "output_type": "execute_result"
    }
   ],
   "source": [
    "aqua = pd.read_excel(\"AquacultureTradeFull.xls\", sheet_name = 1, skiprows = 1)\n",
    "\n",
    "aqua = aqua.drop([30, 31, 32])\n",
    "\n",
    "for i in range(14):\n",
    "    aqua.iloc[i, 0] = \"Volume_1000lbs\"\n",
    "\n",
    "for i in range(14,30):\n",
    "    aqua.iloc[i, 0] = \"Value_$1000US\"\n",
    "\n",
    "aqua = aqua.rename(index = str, columns = {'Product': 'Measurement', 'Unnamed: 1': 'Product'})\n",
    "\n",
    "aqua = aqua.set_index(['Measurement', 'Product'])\n",
    "aqua = aqua.stack()\n",
    "\n",
    "aqua = aqua.reset_index()\n",
    "\n",
    "aqua['Product'] = aqua['Product'].str.rstrip('12345/ ')\n",
    "aqua[['Product', 'Format']] = aqua['Product'].str.split(', ', expand=True)\n",
    "\n",
    "aqua = aqua.rename(index = str, columns = {'level_2': 'Year', 0: 'Amount'})\n",
    "\n",
    "aqua = aqua.reindex(columns=['Measurement', 'Product', 'Format', 'Year', 'Amount'])\n",
    "\n",
    "aqua.head()"
   ]
  },
  {
   "cell_type": "markdown",
   "metadata": {
    "tags": [
     "exercise"
    ]
   },
   "source": [
    "__Exercise 1.6 (20 points).__ What kind of fish or shellfish did the U.S. import the most of in 2017, and how much was imported? What was the total value of the most imported fish or shellfish, and was its value highest across all imports in 2017?\n",
    "\n",
    "Was the most imported fish or shellfish different in previous years?"
   ]
  },
  {
   "cell_type": "markdown",
   "metadata": {
    "tags": [
     "exercise"
    ]
   },
   "source": [
    "__Exercise 1.7 (20 points).__ Repeat the analysis from Exercise 1.6 for exports.\n",
    "\n",
    "Are there any fish or shellfish that the U.S. imports and also exports?"
   ]
  },
  {
   "cell_type": "markdown",
   "metadata": {
    "tags": [
     "exercise"
    ]
   },
   "source": [
    "__Exercise 1.8 (20 points).__ What are the top five countries the U.S. imported shrimp from in 2017? _You'll need to read another sheet from the data set for this question._\n",
    "\n",
    "Use a chart to show how volume imported has changed over the years for all countries that have ever been a top five source of shrimp."
   ]
  }
 ],
 "metadata": {
  "kernelspec": {
   "display_name": "Python 3",
   "language": "python",
   "name": "python3"
  },
  "language_info": {
   "codemirror_mode": {
    "name": "ipython",
    "version": 3
   },
   "file_extension": ".py",
   "mimetype": "text/x-python",
   "name": "python",
   "nbconvert_exporter": "python",
   "pygments_lexer": "ipython3",
   "version": "3.7.1"
  }
 },
 "nbformat": 4,
 "nbformat_minor": 2
}
